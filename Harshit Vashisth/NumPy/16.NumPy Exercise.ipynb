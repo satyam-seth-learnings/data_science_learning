{
 "cells": [
  {
   "cell_type": "markdown",
   "metadata": {},
   "source": [
    "### Import numpy library  "
   ]
  },
  {
   "cell_type": "code",
   "execution_count": 1,
   "metadata": {},
   "outputs": [],
   "source": [
    "import numpy as np"
   ]
  },
  {
   "cell_type": "markdown",
   "metadata": {},
   "source": [
    "### Create an Array using array function  "
   ]
  },
  {
   "cell_type": "code",
   "execution_count": 2,
   "metadata": {},
   "outputs": [],
   "source": [
    "arr1=np.array([1,2,3,5])"
   ]
  },
  {
   "cell_type": "markdown",
   "metadata": {},
   "source": [
    "### Create an Array containing numbers from 20 to 40 "
   ]
  },
  {
   "cell_type": "code",
   "execution_count": 7,
   "metadata": {},
   "outputs": [
    {
     "data": {
      "text/plain": [
       "array([1, 2, 3, 5])"
      ]
     },
     "execution_count": 7,
     "metadata": {},
     "output_type": "execute_result"
    }
   ],
   "source": [
    "arr2=np.arange(20,41)\n",
    "arr1"
   ]
  },
  {
   "cell_type": "markdown",
   "metadata": {},
   "source": [
    "### Create an array which contain 10 elements and every element is 5  "
   ]
  },
  {
   "cell_type": "code",
   "execution_count": 13,
   "metadata": {},
   "outputs": [
    {
     "data": {
      "text/plain": [
       "array([5., 5., 5., 5., 5., 5., 5., 5., 5., 5.])"
      ]
     },
     "execution_count": 13,
     "metadata": {},
     "output_type": "execute_result"
    }
   ],
   "source": [
    "arr3=np.ones(10)*5\n",
    "arr3"
   ]
  },
  {
   "cell_type": "markdown",
   "metadata": {},
   "source": [
    "### create a 1-d array and then convert it into 3-d array  "
   ]
  },
  {
   "cell_type": "code",
   "execution_count": 24,
   "metadata": {},
   "outputs": [
    {
     "data": {
      "text/plain": [
       "array([[[ 3, 47, 30],\n",
       "        [26, 56, 36],\n",
       "        [48, 94, 69]],\n",
       "\n",
       "       [[10, 35, 98],\n",
       "        [98, 50, 56],\n",
       "        [ 2, 25, 80]],\n",
       "\n",
       "       [[34, 33, 48],\n",
       "        [86, 80, 33],\n",
       "        [46, 58, 83]]])"
      ]
     },
     "execution_count": 24,
     "metadata": {},
     "output_type": "execute_result"
    }
   ],
   "source": [
    "arr4=np.random.randint(1,100,27).reshape(3,3,3)\n",
    "\n",
    "arr4"
   ]
  },
  {
   "cell_type": "markdown",
   "metadata": {},
   "source": [
    "### Create 2-d array which contains random 25 numbers between 0 and 1 "
   ]
  },
  {
   "cell_type": "code",
   "execution_count": 29,
   "metadata": {},
   "outputs": [
    {
     "data": {
      "text/plain": [
       "array([[0.09255784, 0.85429713, 0.82244674, 0.0827589 , 0.62384632],\n",
       "       [0.32034991, 0.62843901, 0.25832863, 0.90995628, 0.7548653 ],\n",
       "       [0.94989127, 0.21232607, 0.28077053, 0.18724166, 0.65841629],\n",
       "       [0.79836125, 0.07542216, 0.15565578, 0.23201497, 0.49108429],\n",
       "       [0.09637019, 0.22409658, 0.40567696, 0.49468261, 0.09483677]])"
      ]
     },
     "execution_count": 29,
     "metadata": {},
     "output_type": "execute_result"
    }
   ],
   "source": [
    "arr5=np.random.rand(5,5)\n",
    "arr5"
   ]
  },
  {
   "cell_type": "markdown",
   "metadata": {},
   "source": [
    "### create array containing 20 random integer then replace every even number with -1 \n",
    "#### Example - \n",
    "####                  array --- >  [44,55,12,6,3] \n",
    "####                  ouput ----> [-1,55, -1,-1,3]\n"
   ]
  },
  {
   "cell_type": "code",
   "execution_count": 37,
   "metadata": {},
   "outputs": [
    {
     "data": {
      "text/plain": [
       "array([-1, 73, -1, -1,  9, 91, 61, -1, 81, 55, 99, 85, 91, -1, 55, -1,  5,\n",
       "       -1, 69, -1])"
      ]
     },
     "execution_count": 37,
     "metadata": {},
     "output_type": "execute_result"
    }
   ],
   "source": [
    "arr6=np.random.randint(1,100,20)\n",
    "arr6[arr6%2==0]=-1\n",
    "arr6"
   ]
  },
  {
   "cell_type": "markdown",
   "metadata": {},
   "source": [
    "#### You have a matrix \n",
    "[[5 , 10, 15, 20, 25],\n",
    "[30, 35, 40, 45, 50],\n",
    "[55, 60, 65, 70, 75],\n",
    "[80, 85, 90, 95, 100]]\n",
    "\n",
    "Extract\n",
    "[30,35,40]\n",
    "[55, 60, 65]"
   ]
  },
  {
   "cell_type": "code",
   "execution_count": 47,
   "metadata": {},
   "outputs": [
    {
     "data": {
      "text/plain": [
       "array([[30, 35, 40],\n",
       "       [55, 60, 65]])"
      ]
     },
     "execution_count": 47,
     "metadata": {},
     "output_type": "execute_result"
    }
   ],
   "source": [
    "matrix=np.array([[5 , 10, 15, 20, 25],\n",
    "                [30, 35, 40, 45, 50], \n",
    "                [55, 60, 65, 70, 75],\n",
    "                [80, 85, 90, 95, 100]])\n",
    "matrix[1:3,:3]"
   ]
  },
  {
   "cell_type": "markdown",
   "metadata": {},
   "source": [
    "### Concatenate two 1-d array   "
   ]
  },
  {
   "cell_type": "code",
   "execution_count": 48,
   "metadata": {},
   "outputs": [
    {
     "data": {
      "text/plain": [
       "array([1, 2, 3, 5, 6, 7])"
      ]
     },
     "execution_count": 48,
     "metadata": {},
     "output_type": "execute_result"
    }
   ],
   "source": [
    "arr7=np.array([1,2,3])\n",
    "arr8=np.array([5,6,7])\n",
    "np.hstack((arr7,arr8))"
   ]
  },
  {
   "cell_type": "markdown",
   "metadata": {},
   "source": [
    "### Stack 2-d matrix horizontally and vertically"
   ]
  },
  {
   "cell_type": "code",
   "execution_count": 49,
   "metadata": {},
   "outputs": [],
   "source": [
    "matrix1=np.random.randint(1,100,9).reshape(3,3)\n",
    "matrix2=np.random.randint(1,50,9).reshape(3,3)"
   ]
  },
  {
   "cell_type": "code",
   "execution_count": 50,
   "metadata": {},
   "outputs": [
    {
     "data": {
      "text/plain": [
       "array([[80, 93, 98],\n",
       "       [31, 64, 46],\n",
       "       [37, 16, 95]])"
      ]
     },
     "execution_count": 50,
     "metadata": {},
     "output_type": "execute_result"
    }
   ],
   "source": [
    "matrix1"
   ]
  },
  {
   "cell_type": "code",
   "execution_count": 51,
   "metadata": {},
   "outputs": [
    {
     "data": {
      "text/plain": [
       "array([[11, 25, 40],\n",
       "       [ 4, 40, 36],\n",
       "       [41, 35, 44]])"
      ]
     },
     "execution_count": 51,
     "metadata": {},
     "output_type": "execute_result"
    }
   ],
   "source": [
    "matrix2"
   ]
  },
  {
   "cell_type": "code",
   "execution_count": null,
   "metadata": {},
   "outputs": [],
   "source": []
  }
 ],
 "metadata": {
  "kernelspec": {
   "display_name": "Python 3",
   "language": "python",
   "name": "python3"
  },
  "language_info": {
   "codemirror_mode": {
    "name": "ipython",
    "version": 3
   },
   "file_extension": ".py",
   "mimetype": "text/x-python",
   "name": "python",
   "nbconvert_exporter": "python",
   "pygments_lexer": "ipython3",
   "version": "3.7.0"
  }
 },
 "nbformat": 4,
 "nbformat_minor": 2
}
